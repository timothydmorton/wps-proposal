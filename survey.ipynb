{
 "metadata": {
  "name": "",
  "signature": "sha256:9c929e8ab9883893c5c13482722b5ac0781654ac95ce94014840a41c958bc36e"
 },
 "nbformat": 3,
 "nbformat_minor": 0,
 "worksheets": [
  {
   "cells": [
    {
     "cell_type": "code",
     "collapsed": false,
     "input": [
      "%matplotlib inline\n",
      "from __future__ import print_function, division\n",
      "\n",
      "import numpy as np\n",
      "import matplotlib.pyplot as plt"
     ],
     "language": "python",
     "metadata": {},
     "outputs": [],
     "prompt_number": 1
    },
    {
     "cell_type": "markdown",
     "metadata": {},
     "source": [
      "Instrumental efficiency summaries:\n",
      "---------------------------------\n",
      "\n",
      "PFS: \"We get an RV precision of about 1.5-2.0 m/s on a V = 12 dwarf in 20 minutes\"\n",
      "\n",
      "HARPS-N: \"30 minute integrations of Kepler-93 (g=10.4), S/N per pixel of 103, 1 m/s precision\" (from Kepler-93 paper)\n",
      "\n",
      "Keck: fiducial t_exp calculation :\"187s for V=8 star for 250k counts\" (from exp_time.pro)\n",
      "\n",
      "V of 12-13 typical for K2 candidates"
     ]
    },
    {
     "cell_type": "code",
     "collapsed": false,
     "input": [
      "class RVInstrument(object):\n",
      "    \"\"\"\n",
      "    An RV instrument\n",
      "    \n",
      "    drv_0, Vmag_0 and texp_0 related as follows:\n",
      "    \n",
      "    nights = available nights/year for observation \n",
      "    \n",
      "    An observation of duration texp_0 on a Vmag_0 star \n",
      "    results in RV precision of drv_0.\n",
      "    \"\"\"\n",
      "    def __init__(self, drv_0, Vmag_0, texp_0, drv_floor=1.,\n",
      "                 nights=3):\n",
      "        self.drv_0 = drv_0\n",
      "        self.Vmag_0 = Vmag_0\n",
      "        self.texp_0 = texp_0\n",
      "        self.drv_floor = drv_floor\n",
      "        self.nights = nights\n",
      "        \n",
      "    def texp(self, Vmag, drv=2):\n",
      "        \"\"\"\n",
      "        Exposure time required to obtain rv precision of drv for star of Vmag\n",
      "        \n",
      "        drv ~ 1/SNR, bottoming out at fundamental limit.\n",
      "        \"\"\"\n",
      "        return self.texp_0 * (self.drv_0/drv)**2 * 10**(0.4*(Vmag - self.Vmag_0))\n",
      "    \n"
     ],
     "language": "python",
     "metadata": {},
     "outputs": [],
     "prompt_number": 2
    },
    {
     "cell_type": "markdown",
     "metadata": {},
     "source": [
      "OK, here is my best guess at the fiducial parameters for these various instruments; I print out below how long each instrument takes to reach the desired $\\sigma_{RV}$ on a V=12 star... this has HIRES about 2x worse than HARPS, so perhaps I have some of these rough estimates wrong."
     ]
    },
    {
     "cell_type": "code",
     "collapsed": false,
     "input": [
      "PFS = RVInstrument(2, 12, 20, nights=6)\n",
      "HARPS = RVInstrument(1., 10.4, 30, nights=4)\n",
      "HIRES = RVInstrument(1.5, 8, 3.1, nights=3)\n",
      "\n",
      "print(PFS.texp(12, drv=3))\n",
      "print(HARPS.texp(12, drv=3))\n",
      "print(HIRES.texp(12, drv=3))"
     ],
     "language": "python",
     "metadata": {},
     "outputs": [
      {
       "output_type": "stream",
       "stream": "stdout",
       "text": [
        "8.88888888889\n",
        "14.5505277413\n",
        "30.8533057179\n"
       ]
      }
     ],
     "prompt_number": 3
    },
    {
     "cell_type": "markdown",
     "metadata": {},
     "source": [
      "OK, now define objects required for a survey:"
     ]
    },
    {
     "cell_type": "code",
     "collapsed": false,
     "input": [
      "class Star(object):\n",
      "    def __init__(self, Vmag):\n",
      "        self.Vmag = Vmag\n",
      "\n",
      "class Survey(object):\n",
      "    def __init__(self, targets, instruments):\n",
      "        self.targets = targets\n",
      "        self.instruments = instruments\n",
      "        \n",
      "    def obs_per_year(self, drv=3):\n",
      "        \"\"\"Returns the number of observations in a year for each target\n",
      "        \"\"\"\n",
      "        night = 9 * 60 #in minutes \n",
      "        \n",
      "        nobs = np.zeros(len(self.targets))\n",
      "        i = 0\n",
      "        for inst in self.instruments:\n",
      "            tot_time = night * inst.nights\n",
      "            while tot_time > 0:\n",
      "                star = self.targets[i]\n",
      "                tot_time -= inst.texp(star.Vmag)\n",
      "                nobs[i] += 1\n",
      "                i += 1\n",
      "                if i==len(self.targets):\n",
      "                    i=0\n",
      "\n",
      "        return nobs"
     ],
     "language": "python",
     "metadata": {},
     "outputs": [],
     "prompt_number": 4
    },
    {
     "cell_type": "markdown",
     "metadata": {},
     "source": [
      "OK, create a mock survey and see how many times we can observe each star per year:"
     ]
    },
    {
     "cell_type": "code",
     "collapsed": false,
     "input": [
      "N = 30\n",
      "vmags = np.linspace(11, 12.5, N)  #30 targets between V=11 and V=12.5\n",
      "targets = [Star(vmag) for vmag in vmags]\n",
      "instruments = [PFS, HARPS, HIRES]\n",
      "survey = Survey(targets, instruments)\n",
      "\n",
      "survey.obs_per_year() "
     ],
     "language": "python",
     "metadata": {},
     "outputs": [
      {
       "metadata": {},
       "output_type": "pyout",
       "prompt_number": 5,
       "text": [
        "array([ 10.,  10.,  10.,  10.,  10.,  10.,  10.,  10.,  10.,  10.,  10.,\n",
        "        10.,  10.,  10.,  10.,  10.,  10.,  10.,  10.,  10.,  10.,  10.,\n",
        "        10.,  10.,  10.,  10.,   9.,   9.,   9.,   9.])"
       ]
      }
     ],
     "prompt_number": 5
    },
    {
     "cell_type": "code",
     "collapsed": false,
     "input": [],
     "language": "python",
     "metadata": {},
     "outputs": []
    }
   ],
   "metadata": {}
  }
 ]
}